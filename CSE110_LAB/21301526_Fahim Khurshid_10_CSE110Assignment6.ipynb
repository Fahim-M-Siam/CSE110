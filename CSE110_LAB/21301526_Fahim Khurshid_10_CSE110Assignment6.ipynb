{
 "cells": [
  {
   "cell_type": "markdown",
   "metadata": {
    "id": "mRHB9cBf5D7V"
   },
   "source": [
    "# CSE110 Lab Assignment 6\n",
    "This assignment is to guide you to solve everything you have learned so far by implementing functions in Python. \n",
    "\n",
    "\n",
    "\n",
    "Write your name, student id and CSE110 section below:"
   ]
  },
  {
   "cell_type": "code",
   "execution_count": null,
   "metadata": {
    "id": "YzSo433_gwDg"
   },
   "outputs": [],
   "source": [
    "#STUDENT NAME: Fahim Khurshid\n",
    "#STUDENT ID: 21301526\n",
    "#CSE110 SECTION: 10"
   ]
  },
  {
   "cell_type": "markdown",
   "metadata": {
    "id": "_uzpm0b85D7Z"
   },
   "source": [
    "**<font color='red'>[MUST MAINTAIN VARIABLE NAMING CONVENTIONS FOR ALL THE TASKS]</font>**\n",
    "\n",
    "## Write the Python code of the following problems:\n",
    "\n",
    "### Task 1\n",
    "Write a function called **even_checker** that takes a number as an argument and prints whether the number is even or odd **inside the function**.\n",
    "\n",
    "===================================\n",
    "\n",
    "**Example1:** \\\n",
    "**Function Call:**\\\n",
    "even_checker(5)\\\n",
    "**Output:**\\\n",
    "Odd!!\n",
    "\n",
    "=============================\n",
    "\n",
    "**Example2:** \\\n",
    "**Function Call:**\\\n",
    "even_checker(2)\\\n",
    "**Output:**\\\n",
    "Even!!\n",
    "\n"
   ]
  },
  {
   "cell_type": "code",
   "execution_count": 1,
   "metadata": {
    "id": "tMMBecSe5D7a"
   },
   "outputs": [
    {
     "name": "stdout",
     "output_type": "stream",
     "text": [
      "Even!!\n"
     ]
    }
   ],
   "source": [
    "# to do\n",
    "def even_checker(number):\n",
    "        if(number%2==0):\n",
    "              print(\"Even!!\")\n",
    "        else:\n",
    "              print(\"odd!!\")\n",
    "even_checker(2)"
   ]
  },
  {
   "cell_type": "markdown",
   "metadata": {
    "id": "YFKgn6Yw5D7f"
   },
   "source": [
    "### Task 2\n",
    "Write a python function that takes the limit as an argument of the Fibonacci series and prints till that limit. \n",
    "\n",
    "===================================\n",
    "\n",
    "**Function Call:**\\\n",
    "fibonacci(10)\\\n",
    "**Output:**\\\n",
    "0 1 1 2 3 5 8\\\n",
    "======================\\\n",
    "**Function Call:**\\\n",
    "fibonacci(5)\\\n",
    "**Output:**\\\n",
    "0 1 1 2 3 5 "
   ]
  },
  {
   "cell_type": "code",
   "execution_count": 2,
   "metadata": {
    "id": "J4ab_IeA5D7g"
   },
   "outputs": [
    {
     "name": "stdout",
     "output_type": "stream",
     "text": [
      "0 1 1 2 3 5 8 "
     ]
    }
   ],
   "source": [
    "# to do\n",
    "def fibonacci(number):\n",
    "    x=0\n",
    "    y=1\n",
    "    fib=0\n",
    "    while(fib<=number):\n",
    "        print(fib,end=\" \")\n",
    "        x=y\n",
    "        y=fib\n",
    "        fib=x+y\n",
    "fibonacci(10)"
   ]
  },
  {
   "cell_type": "markdown",
   "metadata": {
    "id": "rDY_xNcO5D7k"
   },
   "source": [
    "### Task 3\n",
    "Write a function called **foo_moo** that takes a number as an argument and **returns** the following statements according the below mentioned conditions. Then, finally prints the statement in the function call. \n",
    "\n",
    "* \tIf the number is divisible by 2, it should return \"Foo\".\n",
    "*   If the number is divisible by 3, it should return \"Moo\". \n",
    "*   If the number is divisible by both 2 and 3, it should return \"FooMoo\".\n",
    "*   Otherwise, it returns \"Boo\".\n",
    "\n",
    "===================================\n",
    "\n",
    "**Example1:** \\\n",
    "**Function Call:**\\\n",
    "foo_moo(5)\\\n",
    "**Output:**\\\n",
    "Boo\n",
    "\n",
    "=================\n",
    "\n",
    "\n",
    "**Example2:** \\\n",
    "**Function Call:**\\\n",
    "foo_moo(4)\\\n",
    "**Output:**\\\n",
    "Foo\n",
    "\n",
    "=================\n",
    "\n",
    "\n",
    "**Example3:** \\\n",
    "**Function Call:**\\\n",
    "foo_moo(6)\\\n",
    "**Output:**\\\n",
    "FooMoo\n",
    "\n"
   ]
  },
  {
   "cell_type": "code",
   "execution_count": 3,
   "metadata": {
    "id": "2roUcNrC5D7l"
   },
   "outputs": [
    {
     "name": "stdout",
     "output_type": "stream",
     "text": [
      "Foo\n"
     ]
    }
   ],
   "source": [
    "# to do\n",
    "def foo_moo(number):\n",
    "    if(number%2==0 and number%3==0):\n",
    "        return(\"FooMoo\")\n",
    "    elif(number%2==0):\n",
    "        return(\"Foo\")\n",
    "    elif(number%3==0):\n",
    "        return(\"Moo\")\n",
    "    else:\n",
    "        return(\"Boo\")\n",
    "    \n",
    "print(foo_moo(4))"
   ]
  },
  {
   "cell_type": "markdown",
   "metadata": {
    "id": "nemw1U-i5D7s"
   },
   "source": [
    "### Task 4\n",
    "Write a python function that takes a string as an argument. Your task is to calculate the number of uppercase letters and lowercase letters and print them in the function. \n",
    "\n",
    "===================================\n",
    "\n",
    "**Function Call:**\\\n",
    "function_name('The quick Sand Man')\\\n",
    "**Output:**\\\n",
    "No. of Uppercase characters : 3\\\n",
    "No. of Lowercase Characters: 12\\\n",
    "============================\\\n",
    "**Function Call:**\\\n",
    "function_name('HaRRy PotteR')\\\n",
    "**Output:**\\\n",
    "No. of Uppercase characters : 5\\\n",
    "No. of Lowercase Characters: 6\n"
   ]
  },
  {
   "cell_type": "code",
   "execution_count": 4,
   "metadata": {
    "id": "4ZBb4Mcr5D7t"
   },
   "outputs": [
    {
     "name": "stdout",
     "output_type": "stream",
     "text": [
      "No. of Uppercase characters:  3\n",
      "No. of Lowercase Characters:  12\n"
     ]
    }
   ],
   "source": [
    "# to do\n",
    "def function_a(string):\n",
    "    capital=0\n",
    "    small=0\n",
    "    for i in string:\n",
    "        if i.isupper():\n",
    "            capital+=1\n",
    "        elif i.islower():\n",
    "            small+=1\n",
    "    print(\"No. of Uppercase characters: \",capital)\n",
    "    print(\"No. of Lowercase Characters: \",small)\n",
    "function_a('The quick Sand Man')"
   ]
  },
  {
   "cell_type": "markdown",
   "metadata": {
    "id": "e9bojIHe5D7w"
   },
   "source": [
    "### Task 5\n",
    "Write a function called **calculate_tax** that takes 3 arguments: your age, salary, and current job designation.\n",
    "\n",
    "\n",
    "Your first task is to take these arguments as user input and pass these values to the function.\n",
    "\n",
    "Your second task is to implement the function and calculate the tax as the following conditions:\n",
    "*  **NO TAX IF YOU ARE LESS THAN 18 YEARS OLD.**\n",
    "*  **NO TAX IF YOU ARE THE PRESIDENT OF THE COMPANY** \n",
    "*  No tax if you get paid less than 10,000\n",
    "*  5% tax if you get paid between 10K and 20K\n",
    "*  10% tax if you get paid more than 20K\n",
    "\n",
    "\n",
    "Finally return this tax value. Then print the returned value in the function call.\n",
    "\n",
    "===================================\n",
    "\n",
    "**Hints:**\\\n",
    "Here the job designation is a string, so it can be written in both uppercase and lower cases. So, you need to check the value ignoring the case.\n",
    "\n",
    "===================================\n",
    "\n",
    "**Example1:** \\\n",
    "**Input:**\\\n",
    "16\\\n",
    "20000\\\n",
    "Student\\\n",
    "**Function Call:**\\\n",
    "calculate_tax(16, 20000, 'Student')\\\n",
    "**Output:**\\\n",
    "0\n",
    "\n",
    "===================================\n",
    "\n",
    "**Example2:** \\\n",
    "**Input:**\\\n",
    "20\\\n",
    "18000\\\n",
    "assistant manager\\\n",
    "**Function Call:**\\\n",
    "calculate_tax(20, 18000, 'assistant manager')\\\n",
    "**Output:**\\\n",
    "900.0\n",
    "\n",
    "\n",
    "===================================\n",
    "\n",
    "**Example3:** \\\n",
    "**Input:**\\\n",
    "20\\\n",
    "22000\\\n",
    "assistant manager\\\n",
    "**Function Call:**\\\n",
    "calculate_tax(20, 22000, 'Assistant manager')\\\n",
    "**Output:**\\\n",
    "2200.0\n",
    "\n",
    "===================================\n",
    "\n",
    "\n",
    "**Example4:** \\\n",
    "**Input:**\\\n",
    "20\\\n",
    "122000\\\n",
    "president\\\n",
    "**Function Call:**\\\n",
    "calculate_tax(20, 122000, 'president')\\\n",
    "**Output:**\\\n",
    "0\n",
    " \n",
    "\n",
    "\n"
   ]
  },
  {
   "cell_type": "code",
   "execution_count": 5,
   "metadata": {
    "id": "M4oo-FKQ5D7x"
   },
   "outputs": [
    {
     "name": "stdout",
     "output_type": "stream",
     "text": [
      "Enter your age: 20\n",
      "Enter your salary: 122000\n",
      "Enter your job designation: President\n",
      "0\n"
     ]
    }
   ],
   "source": [
    "# to do\n",
    "your_age=int(input(\"Enter your age: \"))\n",
    "your_salary=int(input(\"Enter your salary: \"))\n",
    "your_job=str(input(\"Enter your job designation: \"))\n",
    "your_job=your_job.lower()\n",
    "def calculate_tax(age,salary,job):\n",
    "        if(age<18 or job==\"president\" or salary<10000):\n",
    "            return(\"0\")\n",
    "        elif(salary>=10000 and salary<=20000):\n",
    "            return(5*salary/100)\n",
    "        elif(salary>20000):\n",
    "            return(10*salary/100)\n",
    "            \n",
    "print(calculate_tax(your_age,your_salary,your_job))"
   ]
  },
  {
   "cell_type": "markdown",
   "metadata": {
    "id": "VXLQHyLp5D71"
   },
   "source": [
    "### Task 6\n",
    "Write a function which will take 1 argument, number of days.\n",
    "\n",
    "Your first task is to take the number of days as user input and pass the value to the function.\n",
    " \n",
    "Your second task is to implement the function and calculate the total number of years, number of months, and the remaining number of days as output. No need to return any value, print inside the function. \n",
    "\n",
    "**Note:** Assume, each year to be 365 days and month to be 30 days.\n",
    "\n",
    "=====================================================\n",
    "\n",
    "**Hint(1):**  Divide and mod the main input to get the desired output.\n",
    "\n",
    "**Hint(2):**\n",
    "This task’s calculation is similar to Assignment-1’s seconds to hours, minutes conversion.\n",
    "\n",
    "=====================================================\n",
    "\n",
    "**Example01**\n",
    "\n",
    "**Input:**\\\n",
    "4330\\\n",
    "**Function Call:**\\\n",
    "function_name(4330)\\\n",
    "**Output:**\\\n",
    "11 years, 10 months and 15 days\n",
    "\n",
    "================================\n",
    "\n",
    "**Example02**\n",
    "\n",
    "**Input:**\\\n",
    "2250\\\n",
    "**Function Call:**\\\n",
    "function_name(2250)\\\n",
    "**Output:**\\\n",
    "6 years, 2 months and 0 days\n",
    "\n",
    "\n"
   ]
  },
  {
   "cell_type": "code",
   "execution_count": 6,
   "metadata": {
    "id": "gkE9d9gs5D72"
   },
   "outputs": [
    {
     "name": "stdout",
     "output_type": "stream",
     "text": [
      "Enter: 2250\n",
      "6 years, 2 months and 0 days\n"
     ]
    }
   ],
   "source": [
    "# todo\n",
    "user_input=int(input(\"Enter: \"))\n",
    "def function_a(number):\n",
    "        year=number//365\n",
    "        month=(number%365)//30\n",
    "        day=(number%365)%30\n",
    "        print(year,\"years,\",month,\"months and\",day,\"days\")\n",
    "function_a(user_input)"
   ]
  },
  {
   "cell_type": "markdown",
   "metadata": {
    "id": "8-vvES0i5D8B"
   },
   "source": [
    "### Task 7\n",
    "Write a function called **show_palindrome** that takes a number as an argument and then returns a palindrome string. Finally, prints the returned value in the function call.\n",
    "\n",
    "=====================================================\n",
    "\n",
    "**Example1:** \\\n",
    "**Function Call:**\\\n",
    "show_palindrome(5)\\\n",
    "**Output:**\\\n",
    "123454321\n",
    "\n",
    "===================\n",
    "\n",
    "**Example2:** \\\n",
    "**Function Call:**\\\n",
    "show_palindrome(3)\\\n",
    "**Output:**\\\n",
    "12321\n"
   ]
  },
  {
   "cell_type": "code",
   "execution_count": 7,
   "metadata": {
    "id": "QN-Iu8sz5D8C"
   },
   "outputs": [
    {
     "name": "stdout",
     "output_type": "stream",
     "text": [
      "12321\n"
     ]
    }
   ],
   "source": [
    "# to do\n",
    "def show_palindrome(number):\n",
    "        palindrome=\"\"\n",
    "        for i in range(1,number+1):\n",
    "            palindrome+=str(i)\n",
    "        palindrome=palindrome[::1]+palindrome[-2::-1]\n",
    "        return(palindrome)\n",
    "        \n",
    "print(show_palindrome(3))"
   ]
  },
  {
   "cell_type": "markdown",
   "metadata": {
    "id": "V_PVNpx45D8F"
   },
   "source": [
    "### Task 8\n",
    "Write a function called **show_palindromic_triangle** that takes a number as an argument and prints a Palindromic Triangle in the function.\n",
    "\n",
    "**<font color='blue'>[Must reuse the show_palindrome() function of the previous task]</font>**\n",
    "\n",
    "\n",
    "\n",
    "=====================================================\n",
    "\n",
    "**Hints(1):** \\\n",
    "Need to use both print() and print( , end = \" \") functions\n",
    "\n",
    "\n",
    "=====================================================\n",
    "\n",
    "**Example1:** \\\n",
    "**Function Call:**\\\n",
    "show_palindromic_triangle(5)\\\n",
    "**Output:**\n",
    "\n",
    "&emsp; &emsp; &emsp; &emsp; 1\\\n",
    "&emsp; &emsp; &emsp; 1 &nbsp; 2 &nbsp; 1 \\\n",
    "&emsp; &emsp; 1 &nbsp; 2 &nbsp; 3 &nbsp; 2 &nbsp; 1 \\\n",
    "&emsp; 1 &nbsp; 2 &nbsp; 3 &nbsp; 4 &nbsp; 3 &nbsp; 2 &nbsp; 1 \\\n",
    "1 &nbsp; 2 &nbsp; 3 &nbsp; 4 &nbsp; 5 &nbsp; 4 &nbsp; 3 &nbsp; 2 &nbsp; 1\n",
    "\n",
    "=============================================================\n",
    "\n",
    "\n",
    "**Example2:** \\\n",
    "**Function Call:**\\\n",
    "show_palindromic_triangle(3)\\\n",
    "**Output:**\n",
    "\n",
    "&emsp; &emsp; 1 \\\n",
    "&emsp; 1 &nbsp; 2 &nbsp; 1 \\\n",
    "1 &nbsp; 2 &nbsp; 3 &nbsp; 2 &nbsp; 1\n",
    "\n",
    "\n"
   ]
  },
  {
   "cell_type": "code",
   "execution_count": 11,
   "metadata": {
    "id": "fUu0BrHz5D8G"
   },
   "outputs": [
    {
     "name": "stdout",
     "output_type": "stream",
     "text": [
      "  1\n",
      " 121\n",
      "12321\n"
     ]
    }
   ],
   "source": [
    "# to do\n",
    "def show_palindromic_triangle(number):\n",
    "        space=number-2\n",
    "        palindrome=\"\"\n",
    "        for i in range(1,number+1):\n",
    "            for j in range(1,i+1):\n",
    "                palindrome+=str(j)\n",
    "            palindrome=palindrome[::1]+palindrome[-2::-1]\n",
    "            for i in range(space+1):\n",
    "                print(\" \",end=\"\")\n",
    "            print(palindrome) \n",
    "            palindrome=\"\"\n",
    "            space=space-1\n",
    "show_palindromic_triangle(3)"
   ]
  },
  {
   "cell_type": "markdown",
   "metadata": {
    "id": "iLTMEWXg5D8M"
   },
   "source": [
    "### Task 09\n",
    "Write a function called **area_circumference_generator** that takes a radius of a circle as a  function parameter and calculates its circumference and area. Then returns these two results as a **tuple** and prints the results using tuple unpacking in the function call accorrding to the given format. \n",
    "\n",
    "<font color='blue'>**[Must use tuple packing & unpacking]** </font>\n",
    "\n",
    "=====================================================\n",
    "\n",
    "**Example1:** \\\n",
    "**Function Call:**\\\n",
    "area_circumference_generator(1)\\\n",
    "**Output:**\\\n",
    "(3.141592653589793, 6.283185307179586)\\\n",
    "Area of the circle is 3.141592653589793 and circumference is 6.283185307179586\n",
    "\n",
    "====================================\n",
    "\n",
    "**Example2:** \\\n",
    "**Function Call:**\\\n",
    "area_circumference_generator(1.5)\\\n",
    "**Output:**\\\n",
    "(7.0685834705770345, 9.42477796076938)\\\n",
    "Area of the circle is 7.0685834705770345 and circumference is 9.42477796076938\n",
    "\n",
    "====================================\n",
    "\n",
    "\n",
    "**Example3:** \\\n",
    "**Function Call:**\\\n",
    "area_circumference_generator(2.5)\\\n",
    "**Output:**\\\n",
    "(19.634954084936208, 15.707963267948966)\\\n",
    "Area of the circle is 19.634954084936208 and circumference is 15.707963267948966\n"
   ]
  },
  {
   "cell_type": "code",
   "execution_count": 12,
   "metadata": {
    "id": "k8SLTHf35D8N"
   },
   "outputs": [
    {
     "name": "stdout",
     "output_type": "stream",
     "text": [
      "(19.634954084936208, 15.707963267948966)\n",
      "Area of the circle is 19.634954084936208 and circumference is 15.707963267948966\n"
     ]
    }
   ],
   "source": [
    "# to do\n",
    "def area_circumference_generator(radius):\n",
    "    import math\n",
    "    pi=math.pi\n",
    "    return (pi*radius*radius),(2*pi*radius)\n",
    "result=area_circumference_generator(2.5)\n",
    "area,circumference=result\n",
    "print(result)\n",
    "print(\"Area of the circle is\", area,\"and circumference is\", circumference)"
   ]
  },
  {
   "cell_type": "markdown",
   "metadata": {
    "id": "NpgEU6ZI5D8S"
   },
   "source": [
    "### Task 10\n",
    "Write a function called **make_square** that takes a tuple in the parameter as a range of numbers (starting point and ending point (included)). The function should **return a dictionary** with the numbers as keys and its squares as values.\n",
    "\n",
    "=====================================================\n",
    "\n",
    "**Hints:** \\\n",
    "You need to declare a dictionary to store the result. You should use the range function to run the “for loop”.\n",
    "\n",
    "\n",
    "=====================================================\n",
    "\n",
    "**Example1:** \\\n",
    "**Function Call:**\\\n",
    "make_square((1,3))\\\n",
    "**Output:**\\\n",
    "{1: 1, 2: 4, 3: 9}\n",
    "\n",
    "====================================\n",
    "\n",
    "**Example2:** \\\n",
    "**Function Call:**\\\n",
    "make_square((5,9))\\\n",
    "**Output:**\\\n",
    "{5: 25, 6: 36, 7: 49, 8: 64, 9: 81}\n",
    "\n",
    "\n",
    "\n"
   ]
  },
  {
   "cell_type": "code",
   "execution_count": 13,
   "metadata": {
    "id": "-KGD8b0F5D8T"
   },
   "outputs": [
    {
     "name": "stdout",
     "output_type": "stream",
     "text": [
      "{5: 25, 6: 36, 7: 49, 8: 64, 9: 81}\n"
     ]
    }
   ],
   "source": [
    "# to do\n",
    "def make_square(num):\n",
    "    start=num[0]\n",
    "    end=num[-1]+1\n",
    "    result={}\n",
    "    for i in range(start,end):\n",
    "           result[i]=i**2\n",
    "    return result    \n",
    "    \n",
    "    \n",
    "print(make_square((5,9)))"
   ]
  },
  {
   "cell_type": "markdown",
   "metadata": {
    "id": "J7xaBB5i5D8c"
   },
   "source": [
    "### Task 11\n",
    "Write a function called **rem_duplicate** that takes a tuple in the parameter and **return a tuple** removing all the duplicate values. Then print the returned tuple in the function call.\n",
    "\n",
    "<font color='red'>**[Cannot use remove() or removed() for this task]** </font>\n",
    "\n",
    "=====================================================\n",
    "\n",
    "**Hints:** \\\n",
    "Unlike lists, tuples are immutable so, the tuple taken as an argument cannot be modified. But list can be modified and lastly for returning the result use type conversion. You need to use membership operators (in, not in) for preventing adding any duplicates values.\n",
    "\n",
    "=====================================================\n",
    "\n",
    "\n",
    "**Example1:** \\\n",
    "**Function Call:**\\\n",
    "rem_duplicate((1,1,1,2,3,4,5,6,6,6,6,4,0,0,0))\\\n",
    "**Output:**\\\n",
    "(1, 2, 3, 4, 5, 6, 0)\n",
    "\n",
    "====================================\n",
    "\n",
    "**Example2:** \\\n",
    "**Function Call:**\\\n",
    "rem_duplicate((\"Hi\", 1, 2, 3, 3, \"Hi\",'a', 'a', [1,2]))\\\n",
    "**Output:**\\\n",
    "('Hi', 1, 2, 3, 'a', [1, 2])\n",
    "\n",
    "\n",
    "\n"
   ]
  },
  {
   "cell_type": "code",
   "execution_count": 14,
   "metadata": {
    "id": "mniLLbJY5D8d"
   },
   "outputs": [
    {
     "name": "stdout",
     "output_type": "stream",
     "text": [
      "('Hi', 1, 2, 3, 'a', [1, 2])\n"
     ]
    }
   ],
   "source": [
    "# to do\n",
    "def rem_duplicate(main_tuple):\n",
    "    main_list=[]\n",
    "    for i in main_tuple:\n",
    "        if (i not in main_list):\n",
    "               main_list.append(i)\n",
    "    result=tuple(main_list)\n",
    "    return result\n",
    "    \n",
    "print(rem_duplicate((\"Hi\", 1, 2, 3, 3, \"Hi\",'a', 'a', [1,2])))"
   ]
  },
  {
   "cell_type": "markdown",
   "metadata": {
    "id": "yJxb2yrb5D8h"
   },
   "source": [
    "### Task 12\n",
    "Write a python function that takes a list as an argument. Your task is to create a new list where **each element can be present at max 2 times**. Inside the function, print the number of elements removed from the given list. Finally, return the new list and print the result.\n",
    "\n",
    "=====================================================\n",
    "\n",
    "**Hint:** You may use list_name.count(element) to count the total number of times an element is in a list. list_name is your new list for this problem.\n",
    "\n",
    "=====================================================\n",
    "\n",
    "**Function Call:**\\\n",
    "function_name([1, 2, 3, 3, 3, 3, 4, 5, 8, 8])\\\n",
    "**Output:**\\\n",
    "Removed: 2\\\n",
    "[1, 2, 3, 3, 4, 5, 8, 8]\\\n",
    "================================\\\n",
    "**Function Call:**\\\n",
    "function_name([10, 10, 15, 15, 20])\\\n",
    "**Output:**\\\n",
    "Removed: 0\\\n",
    "[10, 10, 15, 15, 20]"
   ]
  },
  {
   "cell_type": "code",
   "execution_count": 15,
   "metadata": {
    "id": "URBhYdgt5D8h"
   },
   "outputs": [
    {
     "name": "stdout",
     "output_type": "stream",
     "text": [
      "Removed: 2\n",
      "[1, 2, 3, 3, 4, 5, 8, 8]\n"
     ]
    }
   ],
   "source": [
    "# todo\n",
    "def my_function(main_list):\n",
    "    new_list=[]\n",
    "    for i in main_list:\n",
    "        element_num=new_list.count(i)\n",
    "        if(element_num<2):\n",
    "            new_list.append(i)\n",
    "    size1=len(main_list)\n",
    "    size2=len(new_list)\n",
    "    removed=size1-size2\n",
    "    print(\"Removed:\",removed)\n",
    "    return new_list\n",
    "print(my_function([1, 2, 3, 3, 3, 3, 4, 5, 8, 8]))"
   ]
  },
  {
   "cell_type": "markdown",
   "metadata": {
    "id": "vqET24dk5D8u"
   },
   "source": [
    "### Task 13\n",
    "Write a python function that will perform the basic calculation (addition, subtraction, multiplication and division) based on 3 arguments. They are:\n",
    "- Operator ('+', '-', '/', '*')\n",
    "- First Operand (any number)\n",
    "- Second Operand (any number)\n",
    "\n",
    "Your first task is to take these arguments as user input and pass the values to the function parameters.\n",
    "\n",
    "Your second task is to write a function and performs the calculation based on the given operator. Then, finally return the result in the function call and print the result.\n",
    "\n",
    "=====================================================\n",
    "\n",
    "**Input:**\\\n",
    "\"+\"\\\n",
    "10\\\n",
    "20\\\n",
    "**Function Call:**\\\n",
    "function_name(\"+\", 10, 20)\\\n",
    "**Output:**\\\n",
    "30.0\n",
    "\n",
    "================================\n",
    "\n",
    "**Input:**\\\n",
    "\"*\"\\\n",
    "5.5\\\n",
    "2.5\\\n",
    "**Function Call:**\\\n",
    "function_name(\"*\", 5.5, 2.5)\\\n",
    "**Output:**\\\n",
    "13.75\n"
   ]
  },
  {
   "cell_type": "code",
   "execution_count": 16,
   "metadata": {
    "id": "sh7YQRv_5D8v"
   },
   "outputs": [
    {
     "name": "stdout",
     "output_type": "stream",
     "text": [
      "enter operator: +\n",
      "enter first number: 10\n",
      "enter second number: 20\n",
      "30.0\n"
     ]
    }
   ],
   "source": [
    "# to do\n",
    "operator=str(input(\"enter operator: \"))\n",
    "first_num=float(input(\"enter first number: \"))\n",
    "second_num=float(input(\"enter second number: \"))\n",
    "def function_calculate(operator,first_num,second_num):\n",
    "    result=0\n",
    "    if(operator==\"+\"):\n",
    "        result=first_num+second_num\n",
    "    elif(operator==\"-\"):\n",
    "        result=first_num-second_num\n",
    "    elif(operator==\"*\"):\n",
    "        result=first_num*second_num\n",
    "    elif(operator==\"/\"):\n",
    "        result=first_num/second_num\n",
    "    return(result)\n",
    "print(function_calculate(operator,first_num,second_num))"
   ]
  },
  {
   "cell_type": "markdown",
   "metadata": {
    "id": "KGitjtfO5D83"
   },
   "source": [
    "### Task 14\n",
    "Write a function which will take 2 arguments. They are:\n",
    "- Sentence \n",
    "- position \n",
    "\n",
    "Your first task is to take these arguments as user input and pass these values to the function parameters.\n",
    "\n",
    "Your second task is to implement the function and remove the characters at the index number which is divisible by the position (Avoid the index number 0 as it will always be divisible by the position, so no need to remove the index 0 character). \n",
    "Finally, add the removed characters at the end of the new string.\n",
    "\n",
    "Return the value and then finally, print the new string at the function call.\n",
    "\n",
    "<font color='red'>**[Cannot use remove() or removed() for this task]** </font>\n",
    "\n",
    "=====================================================\n",
    "\n",
    "**Input:**\\\n",
    "\"I love programming.\"\\\n",
    "3\\\n",
    "**Function call:**\\\n",
    "function_name(\"I love programming.\", 3)\\\n",
    "**Output:**\\\n",
    "I lveprgrmmngo oai.\n",
    "\n",
    "==============================================\n",
    "\n",
    "**Input:**\\\n",
    "\"Python is easy to learn. I love python.\"\\\n",
    "6\\\n",
    "**Function call:**\\\n",
    "function_name(\"Python is easy to learn. I love python.\", 6)\\\n",
    "**Output:**\\\n",
    "Pythonis eay to earn.I lov pythn. sl eo\n"
   ]
  },
  {
   "cell_type": "code",
   "execution_count": 17,
   "metadata": {
    "id": "1Op6YcHY5D84"
   },
   "outputs": [
    {
     "name": "stdout",
     "output_type": "stream",
     "text": [
      "Enter sentence: Python is easy to learn. I love python.\n",
      "Enter position: 6\n",
      "Pythonis eay to earn.I lov pythn. sl eo\n"
     ]
    }
   ],
   "source": [
    "#todo\n",
    "sentence=str(input(\"Enter sentence: \"))\n",
    "position=int(input(\"Enter position: \"))\n",
    "def removing_function(sentence,position):\n",
    "    remove_letter=\"\"\n",
    "    letter=sentence[0]\n",
    "    length=len(sentence)\n",
    "    for i in range(length):\n",
    "        if(i%position!=0):\n",
    "            letter+=sentence[i]\n",
    "        elif(i%position==0 and i!=0):\n",
    "            remove_letter+=sentence[i]\n",
    "    return(letter+remove_letter)\n",
    "\n",
    "print(removing_function(sentence,position))"
   ]
  },
  {
   "cell_type": "markdown",
   "metadata": {
    "id": "5Gq0ZAzQ5D8-"
   },
   "source": [
    "### Task 15\n",
    "You have been hired as an app developer for the company. The company plans to make an app for a grocery store where the user can order groceries and see the total amount to be paid in the cart section. \n",
    "\n",
    "To build this feature, you have to write a function that takes 2 arguments. They are:\n",
    "- order_items (must be a list)\n",
    "- location (default value should be set to \"Dhanmondi\")\n",
    "\n",
    "Your first task is to take a list of items from the user. Pass the list into the function parameter along with the optional location (Use default argument technique). (Also, no need to take location as input, pass this any value you want.) \n",
    "\n",
    "Your second task is to implement the function. In the function, create a dictionary for the items shown in the table. Calculate the total price of the items passed as a list to the function. Additionally, add a delivery fee of 30 taka if the location is Dhanmondi. Otherwise, add a delivery fee of 70 taka. Finally, return the value and print it.\n",
    "\n",
    "| Item | Price(Tk) |\n",
    "| --- | --- |\n",
    "| Rice | 105 |\n",
    "| Potato | 20 |\n",
    "| Chicken | 250 |\n",
    "| Beef | 510 |\n",
    "| Oil | 85 |\n",
    "\n",
    "=====================================================\n",
    "\n",
    "**Hint:** The keys are the items and values are the corresponding price. Iterate the items in the list and check if the items in the list are available in the dictionary keys or not. If it is available, add the price.\n",
    "\n",
    "=====================================================\n",
    "\n",
    "**Example1:**\\\n",
    "function_name([\"Rice\", \"Beef\", \"Rice\"], \"Mohakhali\")\n",
    "\n",
    "total = 105 + 510 + 105 = 720 (Take the price of each item and add them.)\\\n",
    "total = 720 + 70 = 790 (Finally, add the delivery fee based on the location.)\n",
    "\n",
    "**Input:**\\\n",
    "[\"Rice\", \"Beef\", \"Rice\"]\\\n",
    "**Function Call:**\\\n",
    "function_name([\"Rice\", \"Beef\", \"Rice\"], \"Mohakhali\")\\\n",
    "**Output:**\\\n",
    "790\n",
    "\n",
    "==============================================\n",
    "\n",
    "**Example2:**\n",
    "\n",
    "function_name([\"Rice\", \"Beef\", \"Rice\"])\n",
    "\n",
    "total = 105 + 510 + 105 = 720 (Take the price of each item and add them.)\\\n",
    "total = 720 + 30 = 750 (Since no location is passed in the parameter, it will use the default location-\"Dhanmondi\". For dhanmondi, delivery fee of 30 taka)\n",
    "\n",
    "**Input:**\\\n",
    "[\"Rice\", \"Beef\", \"Rice\"]\\\n",
    "**Function Call:**\\\n",
    "function_name([\"Rice\", \"Beef\", \"Rice\"])\\\n",
    "**Output:**\\\n",
    "750"
   ]
  },
  {
   "cell_type": "code",
   "execution_count": 18,
   "metadata": {
    "id": "KqbU53QPblRv"
   },
   "outputs": [
    {
     "name": "stdout",
     "output_type": "stream",
     "text": [
      "How many items: 3\n",
      "enter: rice\n",
      "enter: beef\n",
      "enter: rice\n",
      "790\n"
     ]
    }
   ],
   "source": [
    "#todo\n",
    "food_list=[]\n",
    "food_number=int(input(\"How many items: \"))\n",
    "for i in range(food_number):\n",
    "    item=str(input(\"enter: \"))\n",
    "    item=item.lower()\n",
    "    food_list.append(item)\n",
    "def food_delivery(food_list,location=\"Dhanmondi\"):\n",
    "    total=0\n",
    "    price={\"Rice\":105,\"Potato\":20,\"Chicken\":250,\"Beef\":510,\"Oil\":85}\n",
    "    for key,value in price.items():\n",
    "        key=key.lower()\n",
    "        for i in food_list:\n",
    "            if key==i:\n",
    "                total=total+value\n",
    "    if(location==\"Dhanmondi\"):\n",
    "        total=total+30\n",
    "    else:\n",
    "        total=total+70\n",
    "    return total\n",
    "print(food_delivery(food_list,\"Mohakhali\"))"
   ]
  },
  {
   "cell_type": "markdown",
   "metadata": {
    "id": "sWkvpVVmbT5n"
   },
   "source": [
    "## Optional Tasks (16 -21) [Ungraded]"
   ]
  },
  {
   "cell_type": "markdown",
   "metadata": {
    "id": "LIi7SUJLZ4gA"
   },
   "source": [
    "### Task 16\n",
    "Write a function called **splitting_money** that takes an “amount” of money as a argument.\n",
    "\n",
    "Your first task is to take the “amount” of money as user input and pass the value to the function paramater.\n",
    " \n",
    "Your second task is to implement the function and calculate how that money can be split into 500, 100, 50, 20, 10, 5, 2, and 1 taka notes.\n",
    "\n",
    "Then print the returned value in the function call.\n",
    "\n",
    "=====================================================\n",
    "\n",
    "\n",
    "**Hints:** \\\n",
    "This task’s calculation is similar to Assignment-1’s seconds to hours, minutes conversion. To return the result containing multiple strings, you need to store it in a variable and return it at the end of the function.\n",
    "\n",
    "=====================================================\n",
    "\n",
    "\n",
    "**Example1:** \\\n",
    "If the money is 1234, then the function should return \n",
    "\n",
    "\"500 Taka: 2 note(s) \\\n",
    "100 Taka: 2 note(s) \\\n",
    "20 Taka: 1 note(s) \\\n",
    "10 Taka: 1 note(s) \\\n",
    "2 Taka: 2 note(s)\"\n",
    "\n",
    "=====================================================\n",
    "\n",
    "**Example2:** \\\n",
    "If the money is 151, then the function should return\n",
    "\n",
    "\"100 Taka: 1 note(s)\\\n",
    "50 Taka: 1 note(s)\\\n",
    "1 Taka: 1 note(s)\"\n",
    "\n",
    "\n"
   ]
  },
  {
   "cell_type": "code",
   "execution_count": 19,
   "metadata": {
    "id": "XI1uLQ5rb2oH"
   },
   "outputs": [
    {
     "name": "stdout",
     "output_type": "stream",
     "text": [
      "\n",
      "100 Taka: 1 note(s)\n",
      "50 Taka: 1 note(s)\n",
      "1 Taka: 1 note(s)\n"
     ]
    }
   ],
   "source": [
    "#todo\n",
    "user_input=1234\n",
    "def function_a(number):\n",
    "        output=\"\"\n",
    "        five_hundred=number//500\n",
    "        one_hundred=(number%500)//100\n",
    "        left=number-(five_hundred*500+one_hundred*100)\n",
    "        fifty=left//50\n",
    "        twenty=(left%50)//20\n",
    "        ten=((left%50)%20)//10\n",
    "        five=(((left%50)%20)%10)//5\n",
    "        two=((((left%50)%20)%10)%5)//2\n",
    "        one=(((((left%50)%20)%10)%5)%2)//1\n",
    "        if(five_hundred!=0):\n",
    "                five_hundred=str(five_hundred)\n",
    "                output+=\"500 Taka: \"+five_hundred+\" note(s)\"\n",
    "        if(one_hundred!=0):\n",
    "                one_hundred=str(one_hundred)\n",
    "                output+=\"\\n100 Taka: \"+one_hundred+\" note(s)\"\n",
    "        if(fifty!=0):\n",
    "                fifty=str(fifty)\n",
    "                output+=\"\\n50 Taka: \"+fifty+\" note(s)\"\n",
    "        if(twenty!=0):\n",
    "                twenty=str(twenty)\n",
    "                output+=\"\\n20 Taka: \"+twenty+\" note(s)\"\n",
    "        if(ten!=0):\n",
    "                ten=str(ten)\n",
    "                output+=\"\\n10 Taka: \"+ten+\" note(s)\"\n",
    "        if(five!=0):\n",
    "                five=str(five)\n",
    "                output+=\"\\n5 Taka: \"+five+\" note(s)\"\n",
    "        if(two!=0):\n",
    "                two=str(two)\n",
    "                output+=\"\\n2 Taka: \"+two+\" note(s)\"\n",
    "        if(one!=0):\n",
    "                one=str(one)\n",
    "                output+=\"\\n1 Taka: \"+one+\" note(s)\"\n",
    "        return output\n",
    "print(function_a(151))"
   ]
  },
  {
   "cell_type": "markdown",
   "metadata": {
    "id": "VpnhnPPcab5J"
   },
   "source": [
    "### Task 17\n",
    "Write a function called **remove_odd** that takes a list of numbers that have both even and odd numbers mixed. \\\n",
    "Your function should remove all the odd numbers and **return a compact list** which only contains the even numbers. \n",
    "\n",
    "<font color='red'>**[Cannot use remove() or removed() for this task]** </font>\n",
    "\n",
    "=====================================================\n",
    "\n",
    "**Example1:** \\\n",
    "**Function Call:**\\\n",
    "remove_odd ([21, 33, 44, 66, 11, 1, 88, 45, 10, 9])\\\n",
    "**Output:**\\\n",
    "[44, 66, 88, 10]\n",
    "\n",
    "====================================\n",
    "\n",
    "**Example2:** \\\n",
    "**Function Call:**\\\n",
    "remove_odd ([11,2,3,4,5,2,0,5,3])\\\n",
    "**Output:**\\\n",
    "[2, 4, 2, 0]\n",
    "\n"
   ]
  },
  {
   "cell_type": "code",
   "execution_count": 20,
   "metadata": {
    "id": "y4dR2jV6bAYw"
   },
   "outputs": [
    {
     "name": "stdout",
     "output_type": "stream",
     "text": [
      "[2, 4, 2, 0]\n"
     ]
    }
   ],
   "source": [
    "#todo\n",
    "def remove_odd(main_list):\n",
    "    new_list=[]\n",
    "    for i in main_list:\n",
    "        if(i%2==0):\n",
    "             new_list.append(i)\n",
    "    return new_list\n",
    "print(remove_odd ([11,2,3,4,5,2,0,5,3]))"
   ]
  },
  {
   "cell_type": "markdown",
   "metadata": {
    "id": "8qAKekKWbBnP"
   },
   "source": [
    "### Task 18\n",
    "Write a function which will take 4 arguments. They are:\n",
    "- starting value(inclusive)\n",
    "- ending value(exclusive)\n",
    "- first divisor\n",
    "- second divisor\n",
    "\n",
    "Your first task is to take these arguments as user input and pass these values to the function.\n",
    "\n",
    "Your second task is to implement the function and find all the numbers that are divisible by the <u> **first divisor or second divisor but not both**</u> from the starting value(inclusive) and ending value(exclusive). Add all the numbers that are divisible and finally return this value. Print the returned value in the function call.\n",
    "\n",
    "=====================================================\n",
    "\n",
    "**Input:**\\\n",
    "10\\\n",
    "40\\\n",
    "4\\\n",
    "7\\\n",
    "**Function Call:**\\\n",
    "function_name(10, 40, 4, 7)\\\n",
    "**Output:**\\\n",
    "210\\\n",
    "================================\\\n",
    "**Input:**\\\n",
    "5\\\n",
    "100\\\n",
    "3\\\n",
    "4\\\n",
    "**Function Call:**\\\n",
    "function_name(5, 100, 3, 4)\\\n",
    "**Output:**\\\n",
    "2012\n",
    "\n",
    "\n"
   ]
  },
  {
   "cell_type": "code",
   "execution_count": 21,
   "metadata": {
    "id": "-vQ3gIWm5D8-"
   },
   "outputs": [
    {
     "name": "stdout",
     "output_type": "stream",
     "text": [
      "2012\n"
     ]
    }
   ],
   "source": [
    "#todo\n",
    "def my_function(inclusive,exclusive,divisor_1,divisor_2):\n",
    "    total=0\n",
    "    for i in range(inclusive,exclusive):\n",
    "        if(i%divisor_1==0 and i%divisor_2!=0):\n",
    "            total=total+i\n",
    "        elif(i%divisor_1!=0 and i%divisor_2==0):\n",
    "            total=total+i\n",
    "    return total\n",
    "print(my_function(5, 100, 3, 4))"
   ]
  },
  {
   "cell_type": "markdown",
   "metadata": {
    "id": "0poe59Q-aAtP"
   },
   "source": [
    "### Task 19\n",
    "Write a python function which will take a string as an argument. \n",
    "\n",
    "Your first task is to take a string as user input and pass the value to the function.\n",
    "\n",
    "Your second task is to implement a function which will check whether all the alphabets from a to j (convert all the alphabets to lowercase) has appeared at least once in the given string or not. \n",
    "- If all of these alphabets (a to j) appear at least once, then the result will be 5. \n",
    "- If any one of the alphabets (a to j) is not in the given string, then the result will be 6.\n",
    "\n",
    "Return this result and print the statement, \"PSG will win the Champions League this season\" that many times.\n",
    "\n",
    "=====================================================\n",
    "\n",
    "**Example01:**\n",
    "\"A black jackal is hunting a full grown deer\" \n",
    "\n",
    "Here all the alphabets from A to J are present at least once. So, the function will return 5 and will print the statement 5 times.\n",
    "\n",
    "**Input:**\\\n",
    "\"A black jackal is hunting a full grown deer\"\\\n",
    "**Function Call:**\\\n",
    "function_name(\"A black jackal is hunting a full grown deer\")\\\n",
    "**Output:**\\\n",
    "PSG will win the Champions League this season\\\n",
    "PSG will win the Champions League this season\\\n",
    "PSG will win the Champions League this season\\\n",
    "PSG will win the Champions League this season\\\n",
    "PSG will win the Champions League this season\n",
    "\n",
    "==============================================\n",
    "\n",
    "**Example02:**\n",
    "\n",
    "**Input:**\\\n",
    "\"ABBCDEFEFGHI\"\\\n",
    "**Function Call:**\\\n",
    "function_name(\"ABBCDEFEFGHI\")\\\n",
    "**Output:**\\\n",
    "PSG will win the Champions League this season\\\n",
    "PSG will win the Champions League this season\\\n",
    "PSG will win the Champions League this season\\\n",
    "PSG will win the Champions League this season\\\n",
    "PSG will win the Champions League this season\\\n",
    "PSG will win the Champions League this season\n"
   ]
  },
  {
   "cell_type": "code",
   "execution_count": 27,
   "metadata": {
    "id": "uQRx3Kclb57h"
   },
   "outputs": [],
   "source": [
    "#todo"
   ]
  },
  {
   "cell_type": "markdown",
   "metadata": {
    "id": "NTujbqM7cz8e"
   },
   "source": [
    "### Task 20\n",
    "Write a function called **individul_bonus_calculation** which will take 4 arguments. They are:\n",
    "\n",
    "- The player name\n",
    "- Yearly earning of that player\n",
    "- The total goal scored this season by that player\n",
    "- Bonus percent per goal.\n",
    "\n",
    "\n",
    "Your task is to implement the above-mentioned function that will calculate the total bonus on the yearly earnings of a player for the total goals he had scored.\n",
    "\n",
    "Additionally, \n",
    " * If the goal scored is above 30, add a (additional) bonus of 10000 taka.\n",
    " * If it is between 20 and 30 inclusive, add an extra 5000 taka.\n",
    "\n",
    "<font color='blue'>[ For this task, no need to take any input from the user. Call the functions and print the values inside the function. ] </font>\n",
    "\n",
    "\n",
    "\n",
    "=====================================================\n",
    "\n",
    "**Example1:**\\\n",
    "individul_bonus_calculation(\"Neymar\", 1200000, 35, 5)\n",
    "\n",
    "bonus = 35 * (5 / 100 * 1200000) + 10000 = 2110000\n",
    "\n",
    "**Function call:**\\\n",
    "individul_bonus_calculation(\"Neymar\", 1200000, 35, 5)\\\n",
    "**Output:**\\\n",
    "Neymar earned a bonus of  2110000 Taka for 35 goals.\n",
    "\n",
    "=====================================================\n",
    "\n",
    "**Example2:**\\\n",
    "individul_bonus_calculation('Jamal', 700000, 19, 8)\n",
    "\n",
    "bonus = 19 * (8 / 100 * 700000) + 0 = 1064000\n",
    "\n",
    "**Function call:**\\\n",
    "individul_bonus_calculation('Jamal', 700000, 19, 8)\\\n",
    "**Output:**\\\n",
    "Jamal earned a bonus of 1064000 Taka for 19 goals.\n",
    "\n",
    "=====================================================\n",
    "\n",
    "**Example3:**\\\n",
    "individul_bonus_calculation('Luis', 80000, 25, 10)\n",
    "\n",
    "bonus = 25 * (10 / 100 * 80000) + 5000 = 205000\n",
    "\n",
    "**Function call:**\\\n",
    "individul_bonus_calculation('Luis', 80000, 25, 10)\\\n",
    "**Output:**\\\n",
    "Luis earned a bonus of 205000 Taka for 25 goals.\n",
    "\n",
    "====================================================="
   ]
  },
  {
   "cell_type": "markdown",
   "metadata": {
    "id": "pRU4EhuSh_r-"
   },
   "source": [
    "### Task 21\n",
    "You have been hired by the Abahani football club to write a function that will calculate the total bonus on the yearly earnings of each player for the total goals they have scored.\n",
    "\n",
    "Since the number of players will vary, you decide to use the \"*args\" technique that you learned in your CSE110 class. \n",
    "\n",
    "For each player: pass the name, yearly earning, the total goal scored this season, bonus percent per goal. \n",
    "\n",
    "Additionally, \n",
    " * If the goal scored is above 30, add an extra bonus of 10000 taka. \n",
    " * If it is between 20 and 30 inclusive, add an extra 5000 taka.\n",
    "\n",
    "<font color='blue'>[ For this task, no need to take any input from the user. Call the functions and print the values inside the function. ] </font>\n",
    "\n",
    "**<font color='blue'>[Must reuse the individul_bonus_calculation() function of the previous task]</font>**\n",
    "\n",
    "\n",
    "=====================================================\n",
    "\n",
    "**Example1:**\\\n",
    "cal_bonus(\"Neymar\", 1200000, 35, 5)\n",
    "\n",
    "bonus = 35 * (5 / 100 * 1200000) + 10000 = 2110000\n",
    "\n",
    "**Function call:**\\\n",
    "cal_bonus(\"Neymar\", 1200000, 35, 5)\\\n",
    "**Output:**\\\n",
    "Neymar earned a bonus of  2110000 Taka for 35 goals.\n",
    "\n",
    "=====================================================\n",
    "\n",
    "**Example2:**\\\n",
    "**Function call:**\\\n",
    "function_name(\"Neymar\", 1200000, 30, 10, \"Jamal\", 700000, 19, 5)\\\n",
    "**Output:**\\\n",
    "Neymar earned a bonus of 3605000 Taka for 30 goals.\\\n",
    "Jamal earned a bonus of 665000 Taka for 19 goals.\n",
    "\n",
    "\n",
    "=====================================================\n",
    "\n",
    "**Example3:**\\\n",
    "**Function call:**\\\n",
    "function_name(\"Neymar\", 1200000, 35, 5, 'Jamal', 700000, 19, 8, 'Luis', 80000, 25, 10))\\\n",
    "**Output:**\\\n",
    "Neymar earned a bonus of 2110000 Taka for 35 goals.\\\n",
    "Jamal earned a bonus of 1064000 Taka for 19 goals.\\\n",
    "Luis earned a bonus of 205000 Taka for 25 goals.\n",
    "\n"
   ]
  },
  {
   "cell_type": "code",
   "execution_count": 29,
   "metadata": {
    "id": "IIz3msUa5D9B"
   },
   "outputs": [],
   "source": [
    "# to do"
   ]
  }
 ],
 "metadata": {
  "colab": {
   "collapsed_sections": [],
   "name": "CSE110 Lab Assignment 6 (Function).ipynb",
   "provenance": []
  },
  "kernelspec": {
   "display_name": "Python 3",
   "language": "python",
   "name": "python3"
  },
  "language_info": {
   "codemirror_mode": {
    "name": "ipython",
    "version": 3
   },
   "file_extension": ".py",
   "mimetype": "text/x-python",
   "name": "python",
   "nbconvert_exporter": "python",
   "pygments_lexer": "ipython3",
   "version": "3.8.8"
  }
 },
 "nbformat": 4,
 "nbformat_minor": 1
}
