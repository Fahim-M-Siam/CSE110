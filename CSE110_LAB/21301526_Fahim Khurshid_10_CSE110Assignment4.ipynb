{
 "cells": [
  {
   "cell_type": "markdown",
   "metadata": {
    "id": "xDNsncrtU1yM"
   },
   "source": [
    "# CSE110 Lab Assignment 4\n",
    "\n",
    "This Assignment is to help you develop your concept of Lists in Python."
   ]
  },
  {
   "cell_type": "markdown",
   "metadata": {
    "id": "gh4GUDaIU1yO"
   },
   "source": [
    "\n",
    "\n",
    "\n",
    "\n",
    "\n",
    "\n",
    "##Write your name, student ID and CSE110 theory section number below:\n",
    "\n",
    "\n",
    "\n",
    "\n",
    "\n"
   ]
  },
  {
   "cell_type": "code",
   "execution_count": null,
   "metadata": {
    "id": "OAYfzLIqgqyE"
   },
   "outputs": [],
   "source": [
    "#STUDENT NAME: Fahim Khurshid\n",
    "#STUDENT ID: 21301526\n",
    "#CSE110 THEORY SECTION: 10"
   ]
  },
  {
   "cell_type": "markdown",
   "metadata": {
    "id": "KD4EKJf6U1yQ"
   },
   "source": [
    "## Write the code in Python to do the following tasks:\n",
    "\n",
    "**<font color='red'>[MUST MAINTAIN VARIABLE NAMING CONVENTIONS FOR ALL THE TASKS]</font>**"
   ]
  },
  {
   "cell_type": "markdown",
   "metadata": {
    "id": "pbdeIVcyU1yi"
   },
   "source": [
    "### Task 1\n",
    "Write a Python program that reads 10 numbers from the user into a list. After reading each number, print all the numbers that have been entered so far in the list. \n",
    "\n",
    "**Example:**\\\n",
    "After the user enters 3, prints “Numbers in the list: [3]”\\\n",
    "After the user enters 5, prints “Numbers in the list: [3, 5]”\\\n",
    "After the user enters 34, prints “Numbers in the list: [3, 5, 34]”\\\n",
    ".... and so on"
   ]
  },
  {
   "cell_type": "code",
   "execution_count": 1,
   "metadata": {
    "id": "A5df9pmJU1yj"
   },
   "outputs": [
    {
     "name": "stdout",
     "output_type": "stream",
     "text": [
      "enter: 1\n",
      "Numbers in the list: [1]\n",
      "enter: 1\n",
      "Numbers in the list: [1, 1]\n",
      "enter: 1\n",
      "Numbers in the list: [1, 1, 1]\n",
      "enter: 1\n",
      "Numbers in the list: [1, 1, 1, 1]\n",
      "enter: 1\n",
      "Numbers in the list: [1, 1, 1, 1, 1]\n",
      "enter: 1\n",
      "Numbers in the list: [1, 1, 1, 1, 1, 1]\n",
      "enter: 1\n",
      "Numbers in the list: [1, 1, 1, 1, 1, 1, 1]\n",
      "enter: 1\n",
      "Numbers in the list: [1, 1, 1, 1, 1, 1, 1, 1]\n",
      "enter: 1\n",
      "Numbers in the list: [1, 1, 1, 1, 1, 1, 1, 1, 1]\n",
      "enter: 1\n",
      "Numbers in the list: [1, 1, 1, 1, 1, 1, 1, 1, 1, 1]\n"
     ]
    }
   ],
   "source": [
    "#to do\n",
    "list_1=[]\n",
    "counter=0\n",
    "while(counter<10):\n",
    "    number=int(input(\"enter: \"))\n",
    "    list_1.append(number)\n",
    "    print(\"Numbers in the list:\",list_1)\n",
    "    counter+=1\n"
   ]
  },
  {
   "cell_type": "markdown",
   "metadata": {
    "id": "ZrjtT-I_U1zD"
   },
   "source": [
    "### Task 2\n",
    "\n",
    "Write a Python program that takes a list as an input from the user.Then creates a new list excluding the first and last two elements of the given list and prints the new list. If there are not enough elements in the list to do the task, the print \"Not possible\".\n",
    "\n",
    "**Note:** You may use list slicing.\n",
    "\n",
    "===================================================================\n",
    "\n",
    "**Sample Input 1:**<br/>\n",
    "[10, 20, 24, 25, 26, 35, 70]<br/>\n",
    "**Sample Output 1:**<br/>\n",
    "[24, 25, 26]<br/>\n",
    "\n",
    "===================================================================\n",
    "\n",
    "**Sample Input 2:**<br/>\n",
    "[10, 20, 24, 25, 26]<br/>\n",
    "**Sample Output 2:**<br/>\n",
    "[24]<br/>\n",
    "\n",
    "===================================================================\n",
    "\n",
    "**Sample Input 3:**<br/>\n",
    "[10, 20, 24, 25]<br/>\n",
    "**Sample Output 3:**<br/>\n",
    "[]<br/>\n",
    "\n",
    "===================================================================\n",
    "\n",
    "**Sample Input 4:**<br/>\n",
    "[10, 20, 24]<br/>\n",
    "**Sample Output 4:**<br/>\n",
    "Not possible<br/>\n",
    "\n",
    "==================================================================="
   ]
  },
  {
   "cell_type": "code",
   "execution_count": 3,
   "metadata": {
    "id": "3r7Ripj7U1zE"
   },
   "outputs": [
    {
     "name": "stdout",
     "output_type": "stream",
     "text": [
      "Enter list lenght: 8\n",
      "Enter: 1\n",
      "Enter: 2\n",
      "Enter: 3\n",
      "Enter: 4\n",
      "Enter: 5\n",
      "Enter: 6\n",
      "Enter: 7\n",
      "Enter: 8\n",
      "[3, 4, 5, 6]\n"
     ]
    }
   ],
   "source": [
    "#to do\n",
    "a_list =[]\n",
    "lenght=int(input(\"Enter list lenght: \"))\n",
    "for i in range(lenght):\n",
    "        list_elements=int(input(\"Enter: \"))\n",
    "        a_list.append(list_elements)\n",
    "new_list =a_list[2:lenght-2]\n",
    "if (lenght<4):\n",
    "    print(\"Not possible\")\n",
    "else:\n",
    "    print(new_list)\n"
   ]
  },
  {
   "cell_type": "markdown",
   "metadata": {
    "id": "AWgZaBZCzmaM"
   },
   "source": [
    "### Task 3\n",
    "\n",
    "Write a python program that reads 5 numbers from the user into a list, and then prints them in the reverse order.\n",
    "\n",
    "*Hint: You may create a list to store the input numbers and then use loop to print them in reverse order*\n",
    "\n",
    "===================================================================\n",
    "\n",
    "**Sample Input:**\\\n",
    "5\\\n",
    "-5\\\n",
    "100\\\n",
    "1\\\n",
    "0\n",
    "\n",
    "**Sample Output:**\\\n",
    "Input data: [5, -5, 100, 1, 0]\\\n",
    "Printing values from the list in reverse order:\\\n",
    "0\\\n",
    "1\\\n",
    "100\\\n",
    "-5\\\n",
    "5\n",
    "\n",
    "==================================================================="
   ]
  },
  {
   "cell_type": "code",
   "execution_count": 4,
   "metadata": {
    "executionInfo": {
     "elapsed": 6,
     "status": "ok",
     "timestamp": 1636194024605,
     "user": {
      "displayName": "Nabuat Zaman Nahim",
      "photoUrl": "https://lh3.googleusercontent.com/a-/AOh14GilJfaWRPq7daLbF4lvVuz1nI5vlQEwOIlBlGHF=s64",
      "userId": "09382019355754758534"
     },
     "user_tz": -360
    },
    "id": "ICW-03YOznTp"
   },
   "outputs": [
    {
     "name": "stdout",
     "output_type": "stream",
     "text": [
      "enter: 5\n",
      "enter: -5\n",
      "enter: 100\n",
      "enter: 1\n",
      "enter: 0\n",
      "0\n",
      "1\n",
      "100\n",
      "-5\n",
      "5\n"
     ]
    }
   ],
   "source": [
    "#to do\n",
    "list_1=[]\n",
    "counter=1\n",
    "while counter<=5:\n",
    "    number=int(input(\"enter: \"))\n",
    "    list_1.append(number)\n",
    "    counter+=1\n",
    "list_1.reverse()\n",
    "list_2=\"\"\n",
    "for x in list_1:\n",
    "    list_2=str(x)\n",
    "    print(list_2)"
   ]
  },
  {
   "cell_type": "markdown",
   "metadata": {
    "id": "4pBLPmvre0jv"
   },
   "source": [
    "### Task 4\n",
    "\n",
    "Write a Python program that turns every item of a list into its square. [Your program should work for any lists; make changes to the lists below and check whether your program works correctly]\n",
    "\n",
    "===================================================================\n",
    "\n",
    "**Given list 1:**\\\n",
    "[1, 2, 3, 4, 5, 6, 7]\n",
    "\n",
    "**Sample Output 1:**\\\n",
    "[1, 4, 9, 16, 25, 36, 49]\n",
    "\n",
    "===================================================================\n",
    "\n",
    "**Given list 2:**\\\n",
    "[3, 5, 1, 6]\n",
    "\n",
    "**Sample Output 2:**\\\n",
    "[9, 25, 1, 36]\n",
    "\n",
    "\n",
    "===================================================================\n",
    "\n",
    "\n",
    "\n",
    "\n",
    "\n"
   ]
  },
  {
   "cell_type": "code",
   "execution_count": 5,
   "metadata": {
    "id": "5NDg0odDfANt"
   },
   "outputs": [
    {
     "name": "stdout",
     "output_type": "stream",
     "text": [
      "Enter list lenght: 5\n",
      "Enter: 1\n",
      "Enter: 2\n",
      "Enter: 3\n",
      "Enter: 4\n",
      "Enter: 5\n",
      "[1, 4, 9, 16, 25]\n"
     ]
    }
   ],
   "source": [
    "#to do\n",
    "main_list=[]\n",
    "square_list=[]\n",
    "lenght_1=int(input(\"Enter list lenght: \"))\n",
    "for i in range(lenght_1):\n",
    "        list_elements=int(input(\"Enter: \"))\n",
    "        main_list.append(list_elements)\n",
    "for i in main_list:\n",
    "    square_i=i**2\n",
    "    square_list.append(square_i)\n",
    "print(square_list)"
   ]
  },
  {
   "cell_type": "markdown",
   "metadata": {
    "id": "G9jPuLWOetqd"
   },
   "source": [
    "### Task 5\n",
    "\n",
    "\n",
    "Write a Python program that removes all Empty strings from a **given list** and print the modified list. [Your program should work for any given list; make changes to the lists below and check whether your program works correctly]\n",
    "\n",
    "=========================================================================\n",
    "\n",
    "**Given List:**\n",
    "\n",
    "[\"hey\", \"there\", \"\", \"what's\", \"\", \"up\", \"\", \"?\"]\n",
    "\n",
    "**Sample Output:**\n",
    "\n",
    "Original List:\n",
    "['hey', 'there', '', \"what's\", '', 'up', '', '?']\n",
    "\n",
    "Modified List:\n",
    "['hey', 'there', \"what's\", 'up', '?']\n",
    "\n",
    "==========================================================================\n",
    "\n",
    "\n"
   ]
  },
  {
   "cell_type": "code",
   "execution_count": 6,
   "metadata": {
    "id": "yIlAlqlGe7IA"
   },
   "outputs": [
    {
     "name": "stdout",
     "output_type": "stream",
     "text": [
      "Enter list lenght: 4\n",
      "Enter: hi\n",
      "Enter: \n",
      "Enter: hi\n",
      "Enter: \n",
      "['hi', 'hi']\n"
     ]
    }
   ],
   "source": [
    "#to do\n",
    "main_list=[]\n",
    "output_list=[]\n",
    "lenght=int(input(\"Enter list lenght: \"))\n",
    "for i in range(lenght):\n",
    "        list_elements=str(input(\"Enter: \"))\n",
    "        main_list.append(list_elements)\n",
    "for i in main_list:\n",
    "     if(i!=\"\"):\n",
    "            output_list.append(i)     \n",
    "print(output_list)   "
   ]
  },
  {
   "cell_type": "markdown",
   "metadata": {
    "id": "wfcSytFVU1zU"
   },
   "source": [
    "### Task 6\n",
    "\n",
    "Write a Python program that reads 5 numbers into a list and prints the **largest number** and its location or index position on the list. <font color='red'>[You are not allowed to use the max(), sort(), sorted() function here]</font>\n",
    "\n",
    "**Hint:** You may assume the first input to be the largest value initially and the largest value’s location to be 0.\n",
    "\n",
    "**Note:** You may need to be careful while printing the output. Depending on your code, you might need data conversion.\n",
    "\n",
    "===================================================================\n",
    "\n",
    "**Sample Input:**\\\n",
    " 7, 13, 2, 10, 6\n",
    "\n",
    "**Sample Output:**\\\n",
    "My list: [7, 13, 2, 10, 6]\\\n",
    "Largest number in the list is 13 which was found at index 1.\n",
    "\n",
    "==================================================================="
   ]
  },
  {
   "cell_type": "code",
   "execution_count": 7,
   "metadata": {
    "id": "kXbEh1t3U1zV"
   },
   "outputs": [
    {
     "name": "stdout",
     "output_type": "stream",
     "text": [
      "enter: 7\n",
      "enter: 13\n",
      "enter: 2\n",
      "enter: 10\n",
      "enter: 6\n",
      "list: [7, 13, 2, 10, 6]\n",
      "Largest number 13 was found at location 1\n"
     ]
    }
   ],
   "source": [
    "#to do\n",
    "list_1=[]\n",
    "counter=1\n",
    "while counter<=5:\n",
    "    add=int(input(\"enter: \"))\n",
    "    list_1.append(add)\n",
    "    counter+=1\n",
    "\n",
    "max_value=list_1[0]\n",
    "for i in range(5):\n",
    "     if (list_1[i]>max_value):\n",
    "                max_value=list_1[i]\n",
    "for i in range(5):\n",
    "      if max_value==list_1[i]:\n",
    "            location=i\n",
    "                          \n",
    "print(\"list:\",list_1)\n",
    "print(\"Largest number\", max_value, \"was found at location\",location)"
   ]
  },
  {
   "cell_type": "markdown",
   "metadata": {
    "id": "UjTy79X6ewce"
   },
   "source": [
    "## Task 7\n",
    "\n",
    "Suppose you have been given two lists. Write a Python program that replaces the last element of the first list with the second list. [Your program should work for any two given lists; make changes to the lists below and check whether your program works correctly]\n",
    "\n",
    "\n",
    "===================================================================\n",
    "\n",
    "**Sample given lists 1:**\\\n",
    "List_one : [1, 4, 7, 5]\\\n",
    "List_two : [6, 1, 3, 9]\n",
    "\n",
    "**Sample Output 1:**\\\n",
    "[1, 4, 7, 6, 1, 3, 9]\n",
    "\n",
    "===================================================================\n",
    "\n",
    "**Sample given lists 2:**\\\n",
    "List_one : [1, 3, 5, 7, 9, 10]\\\n",
    "List_two : [2, 4, 6, 8]\n",
    "\n",
    "**Sample Output 2:**\\\n",
    "[1, 3, 5, 7, 9, 2, 4, 6, 8]\n",
    "\n",
    "===================================================================\n",
    "\n",
    "\n",
    "\n"
   ]
  },
  {
   "cell_type": "code",
   "execution_count": 1,
   "metadata": {
    "id": "OlrhifBge-TA"
   },
   "outputs": [
    {
     "name": "stdout",
     "output_type": "stream",
     "text": [
      "Enter list-1 lenght: 6\n",
      "Enter: 1\n",
      "Enter: 3\n",
      "Enter: 5\n",
      "Enter: 7\n",
      "Enter: 9\n",
      "Enter: 10\n",
      "Enter list-2 lenght: 4\n",
      "Enter: 2\n",
      "Enter: 4\n",
      "Enter: 6\n",
      "Enter: 8\n",
      "[1, 3, 5, 7, 9, 2, 4, 6, 8]\n"
     ]
    }
   ],
   "source": [
    "#to do\n",
    "list_1=[]\n",
    "lenght_1=int(input(\"Enter list-1 lenght: \"))\n",
    "for i in range(lenght_1):\n",
    "        list_elements1=int(input(\"Enter: \"))\n",
    "        list_1.append(list_elements1)\n",
    "        \n",
    "list_2=[]        \n",
    "lenght_2=int(input(\"Enter list-2 lenght: \"))\n",
    "for i in range(lenght_2):\n",
    "        list_elements2=int(input(\"Enter: \"))\n",
    "        list_2.append(list_elements2) \n",
    "        \n",
    "list_1.remove(list_1[-1]) \n",
    "\n",
    "output_list=[]\n",
    "for i in list_1:\n",
    "    output_list.append(i)\n",
    "    \n",
    "for i in list_2:\n",
    "    output_list.append(i)\n",
    "print(output_list)"
   ]
  },
  {
   "cell_type": "markdown",
   "metadata": {
    "id": "7a_1pYjfU1zI"
   },
   "source": [
    "###### Task 8\n",
    "Assume, you have been given two lists. [Your program should work for any two given lists; change the following lists and check whether your program works correctly for the code you have written]\n",
    "\n",
    "list_one = [1, 2, 3, 4, 5, 6, 7, 8, 9]\\\n",
    "list_two = [10, 11, 12, -13, -14, -15, -16]\n",
    "\n",
    "Write a Python program that creates a new list with all the **even elements** of both of the given lists and prints the new list.\n",
    "\n",
    "**Hint:** You may create a third list to store the even elements of the given lists.\n",
    "\n",
    "===================================================================\n",
    "\n",
    "**Output for the above lists:** [2, 4, 6, 8, 10, 12, -14, -16]\n",
    "\n",
    "==================================================================="
   ]
  },
  {
   "cell_type": "code",
   "execution_count": 2,
   "metadata": {
    "id": "vToa7yazU1zI"
   },
   "outputs": [
    {
     "name": "stdout",
     "output_type": "stream",
     "text": [
      "[2, 4, 6, 8, 10, 12, -14, -16]\n"
     ]
    }
   ],
   "source": [
    "#to do\n",
    "list_one = [1, 2, 3, 4, 5, 6, 7, 8, 9]\n",
    "list_two = [10, 11, 12, -13, -14, -15, -16]\n",
    "new_list=[]\n",
    "for i in list_one:\n",
    "    if(i%2==0):\n",
    "        even=i\n",
    "        new_list.append(even)\n",
    "for i in list_two:\n",
    "    if(i%2==0):\n",
    "        even=i\n",
    "        new_list.append(even)\n",
    "print(new_list)"
   ]
  },
  {
   "cell_type": "markdown",
   "metadata": {
    "id": "vyFt-Ra5erR4"
   },
   "source": [
    "### Task 9\n",
    "\n",
    "Write a Python program that reads a string as an input from the user where multiple numbers are separated by spaces. Then, make a list of numbers from the input string without using the split() function and print the list. Finally, remove all the occurences of **even numbers** from the same input list and print the modified list.\n",
    "\n",
    "\n",
    "=========================================================================\n",
    "\n",
    "**Sample Input:**\n",
    "\n",
    "7 12 4 55 96 2 11 61 33 42\n",
    "\n",
    "**Sample Output:**\n",
    "\n",
    "Original list: [7, 12, 4, 55, 96, 2, 11, 61, 33, 42]\\\n",
    "Modified list: [7, 55, 11, 61, 33]\n",
    "\n",
    "=========================================================================\n",
    "\n",
    "\n",
    "\n"
   ]
  },
  {
   "cell_type": "code",
   "execution_count": 2,
   "metadata": {
    "id": "fcPie0yUEBj6"
   },
   "outputs": [
    {
     "name": "stdout",
     "output_type": "stream",
     "text": [
      "7 12 4 55 96 2 11 61 33 42\n",
      "Original list:  [7, 12, 4, 55, 96, 2, 11, 61, 33, 42]\n",
      "Modified List [7, 55, 11, 61, 33]\n"
     ]
    }
   ],
   "source": [
    "#to do\n",
    "a=input()\n",
    "s=\"\"\n",
    "l=[]\n",
    "for i in a:\n",
    "    if i!=\" \":\n",
    "        s=s+i\n",
    "    else:\n",
    "        l.append(int(s))\n",
    "        s=\"\"\n",
    "l.append(int(s))\n",
    "print(\"Original list: \",l)\n",
    "j=[]\n",
    "for i in l:\n",
    "    if i%2!=0:\n",
    "        j.append(i)\n",
    "print(\"Modified List\",j)"
   ]
  },
  {
   "cell_type": "markdown",
   "metadata": {
    "id": "QaD4hLn92EKT"
   },
   "source": [
    "### Task 10\n",
    "Write a Python program that reads a string as an input from the user where multiple numbers are separated by commas. Then, make a list of numbers from the input string and print the list. Finally, remove multiple occurences of any numbers from the input list and print the modified list **without duplicate values**.\n",
    "\n",
    "*Hint: You may create a third list to store the results but try doing it in the same input list. You can use membership operators (in, not in) to make sure no duplicates are added.*\n",
    "\n",
    "===================================================================\n",
    "\n",
    "**Sample Input 1:**<br/>\n",
    "0, 0, 1, 2, 3, 4, 4, 5, 6, 6, 6, 7, 8, 9, 4, 4<br/>\n",
    "\n",
    "\n",
    "**Sample Output 1:**<br/>\n",
    "Input list: [0, 0, 1, 2, 3, 4, 4, 5, 6, 6, 6, 7, 8, 9, 4, 4]\\\n",
    "Modified list: [0, 1, 2, 3, 4, 5, 6, 7, 8, 9]\n",
    "\n",
    "===================================================================\n",
    "\n",
    "**Sample Input 2:**<br/>\n",
    "7, 7, 7, 1, 0, 3, 3, 55, 9<br/>\n",
    "\n",
    "\n",
    "**Sample Output 2:**<br/>\n",
    "Input list: [7, 7, 7, 1, 0, 3, 3, 55, 9]\\\n",
    "Modified list: [7, 1, 0, 3, 55, 9]\n",
    "\n",
    "==================================================================="
   ]
  },
  {
   "cell_type": "code",
   "execution_count": 3,
   "metadata": {
    "executionInfo": {
     "elapsed": 1708,
     "status": "ok",
     "timestamp": 1636194404684,
     "user": {
      "displayName": "Nabuat Zaman Nahim",
      "photoUrl": "https://lh3.googleusercontent.com/a-/AOh14GilJfaWRPq7daLbF4lvVuz1nI5vlQEwOIlBlGHF=s64",
      "userId": "09382019355754758534"
     },
     "user_tz": -360
    },
    "id": "EUbQbz5hU1zP"
   },
   "outputs": [
    {
     "name": "stdout",
     "output_type": "stream",
     "text": [
      "7, 7, 7, 1, 0, 3, 3, 55, 9\n",
      "input list ['7', ' 7', ' 7', ' 1', ' 0', ' 3', ' 3', ' 55', ' 9']\n",
      "modified list [7, 1, 0, 3, 55, 9]\n"
     ]
    }
   ],
   "source": [
    "#to do\n",
    "a=input()\n",
    "l=a.split(\",\")\n",
    "print(\"input list\",l)\n",
    "for i in range(len(l)):\n",
    "    l[i]=int(l[i])\n",
    "\n",
    "for i in range(len(l)):\n",
    "    for j in range(i+1,len(l)):\n",
    "        if l[i]==l[j]:\n",
    "            l[j]=\"X\"\n",
    "while \"X\" in l:\n",
    "    l.remove(\"X\")\n",
    "print(\"modified list\",l)"
   ]
  },
  {
   "cell_type": "markdown",
   "metadata": {
    "id": "bvF30RQlemBW"
   },
   "source": [
    "### Task 11\n",
    "Assume, you have been given two lists: List_one and List_two. [Your program should work for any two given lists; change the following lists and check whether your program works correctly for the code you have written]\n",
    "\n",
    "Write a Python program that prints \"True\", if the given two lists have at least one common member. Otherwise, prints \"False\". \n",
    "\n",
    "Note: Please use concepts of flag and break to solve this task.\n",
    "\n",
    "===================================================================\n",
    "\n",
    "**Given lists 1:**\\\n",
    "List_one : [1, 4, 3, 2, 6]\\\n",
    "List_two : [5, 6, 9, 8, 7]\n",
    "\n",
    "**Sample Output 1:**\\\n",
    "True\n",
    "\n",
    "===================================================================\n",
    "\n",
    "**Given lists 2:**\\\n",
    "List_one : [1, 4, 3, 2, 5]\\\n",
    "List_two : [8, 7, 6, 9]\n",
    "\n",
    "**Sample Output 2:**\\\n",
    "False\n",
    "\n",
    "===================================================================\n"
   ]
  },
  {
   "cell_type": "code",
   "execution_count": 5,
   "metadata": {
    "id": "LEnaTlyoMJdS"
   },
   "outputs": [
    {
     "name": "stdout",
     "output_type": "stream",
     "text": [
      "True\n"
     ]
    }
   ],
   "source": [
    "#to do\n",
    "List_one=[1, 4, 3, 2, 6]\n",
    "List_two=[5, 6, 9, 8, 7]\n",
    "flag=False\n",
    "for i in range(len(List_one)):\n",
    "    for j in range(len(List_two)):\n",
    "        if List_one[i]==List_two[j]:\n",
    "            flag=True\n",
    "print(flag)"
   ]
  },
  {
   "cell_type": "markdown",
   "metadata": {
    "id": "WZXnxHTdGrMC"
   },
   "source": [
    "## Optional Tasks (12-17) [Ungraded]"
   ]
  },
  {
   "cell_type": "markdown",
   "metadata": {
    "id": "nwRZ3_0tC3fq"
   },
   "source": [
    "### Task 12\n",
    "\n",
    "\n",
    "Write a Python program that reads 5 numbers into a list and prints the **second largest number** and its location or index position on the list. <font color='red'>[You are not allowed to use the max(), sort(), sorted() function here]</font>\n",
    "\n",
    "===================================================================\n",
    "\n",
    "**Sample Input:**\\\n",
    " 7, 13, 2, 10, 6\n",
    "\n",
    "**Sample Output:**\\\n",
    "My list: [7, 13, 2, 10, 6]\\\n",
    "Second largest number in the list is 10 which was found at index 3.\n",
    "\n",
    "===================================================================\n",
    "\n"
   ]
  },
  {
   "cell_type": "code",
   "execution_count": 3,
   "metadata": {
    "id": "2fhPNFKGEOKi"
   },
   "outputs": [
    {
     "name": "stdout",
     "output_type": "stream",
     "text": [
      "enter: 7\n",
      "enter: 13\n",
      "enter: 2\n",
      "enter: 10\n",
      "enter: 6\n",
      "Second largest number in the list is 10 which was found at index 3\n"
     ]
    }
   ],
   "source": [
    "#to do\n",
    "list_1=[]\n",
    "list_2=list_1\n",
    "counter=1\n",
    "while counter<=5:\n",
    "    add=int(input(\"enter: \"))\n",
    "    list_1.append(add)\n",
    "    counter+=1\n",
    "\n",
    "for i in range(5):\n",
    "    for j in range(i + 1, 5):\n",
    "\n",
    "        if list_1[i] > list_1[j]:\n",
    "              list_2[i], list_2[j] = list_2[j], list_2[i]\n",
    "second_largest=list_2[-2]\n",
    "for i in range(5):\n",
    "    if second_largest==list_1[i]:\n",
    "         location=i\n",
    "print(\"Second largest number in the list is\",second_largest,\"which was found at index\",location)\n"
   ]
  },
  {
   "cell_type": "markdown",
   "metadata": {
    "id": "lvSiLaobU1zY"
   },
   "source": [
    "### Task 13\n",
    "\n",
    "Write a Python program that reads 5 numbers into a list and prints the smallest and largest number and their locations in the list. <font color='red'>[You are not allowed to use the max(), min(), sort(), sorted() functions here]</font>\n",
    "\n",
    "**Hint:** You may assume the first input to be the largest value initially and the largest value’s location to be 0. Similarly, you can assume the first input to be the smallest value initially and the smallest value’s location to be 0. \n",
    "\n",
    "**Note:** You may need to be careful while printing the output. Depending on your code, you might need data conversion.\n",
    "\n",
    "===================================================================\n",
    "\n",
    "**Sample Input:**\\\n",
    "7, 13, -5, 10, 6\n",
    "\n",
    "**Sample Output:**\\\n",
    "My list: [7, 13, -5, 10, 6]\\\n",
    "Smallest number in the list is -5 which was found at index 2\\\n",
    "Largest number in the list is 13 which was found at index 1\n",
    "\n",
    "==================================================================="
   ]
  },
  {
   "cell_type": "code",
   "execution_count": 5,
   "metadata": {
    "id": "yiS5TWSDU1zY"
   },
   "outputs": [
    {
     "name": "stdout",
     "output_type": "stream",
     "text": [
      "enter: 7\n",
      "enter: 13\n",
      "enter: -5\n",
      "enter: 10\n",
      "enter: 6\n",
      "list: [7, 13, -5, 10, 6]\n",
      "Smallest number in the list is -5 which was found at index 2\n",
      "Largest number in the list is 13 which was found at index 1\n"
     ]
    }
   ],
   "source": [
    "#to do\n",
    "list_1=[]\n",
    "counter=1\n",
    "while counter<=5:\n",
    "    add=int(input(\"enter: \"))\n",
    "    list_1.append(add)\n",
    "    counter+=1\n",
    "\n",
    "max_value=list_1[0]\n",
    "for i in range(5):\n",
    "     if (list_1[i]>max_value):\n",
    "            max_value=list_1[i]\n",
    "min_value=list_1[0]\n",
    "for x in range(5):\n",
    "        if (list_1[x]<min_value):\n",
    "                min_value=list_1[x]\n",
    "for i in range(5):\n",
    "        if min_value==list_1[i]:\n",
    "            min_location=i   \n",
    "            \n",
    "        if max_value==list_1[i]:\n",
    "            max_location=i      \n",
    "print(\"list:\",list_1)\n",
    "print(\"Smallest number in the list is\", min_value, \"which was found at index\",min_location)\n",
    "print(\"Largest number in the list is\", max_value, \"which was found at index\",max_location)\n"
   ]
  },
  {
   "cell_type": "markdown",
   "metadata": {
    "id": "rguDZ8SBCHD8"
   },
   "source": [
    "### Task 14\n",
    "Write a Python program that takes two lists as an input from the user. Then print a new list with the **common elements** of both the input lists. \n",
    "\n",
    "*Hint: You may need to create a third list to store the results. You can use membership operators (in, not in) to make sure similar elements are added.*\n",
    "\n",
    "===================================================================\n",
    "\n",
    "**Sample Input 1:**<br/>\n",
    "A, B, C, D\n",
    "\n",
    "\n",
    "C, E, F, B\n",
    "\n",
    "\n",
    "**Sample Output 1:**<br/>\n",
    "['C', 'B']\n",
    "\n",
    "===================================================================\n",
    "\n",
    "**Sample Input 2:**<br/>\n",
    "1, 3, A, H, P\n",
    "\n",
    "\n",
    "A, G, 1, P, O\n",
    "\n",
    "\n",
    "**Sample Output 2:**<br/>\n",
    "['1', 'A', 'P']\n",
    "\n",
    "===================================================================\n"
   ]
  },
  {
   "cell_type": "code",
   "execution_count": 3,
   "metadata": {
    "id": "3iueGiPPGG66"
   },
   "outputs": [
    {
     "name": "stdout",
     "output_type": "stream",
     "text": [
      "enter value of list_1: A\n",
      "enter value of list_1: B\n",
      "enter value of list_1: C\n",
      "enter value of list_1: D\n",
      "enter value of list_1: E\n",
      "list_1 is done\n",
      "enter value of list_2: D\n",
      "enter value of list_2: E\n",
      "enter value of list_2: F\n",
      "enter value of list_2: G\n",
      "enter value of list_2: H\n",
      "list_2 is done\n",
      "list-1: ['A', 'B', 'C', 'D', 'E']\n",
      "list-2: ['D', 'E', 'F', 'G', 'H']\n",
      "Common Elements: ['D', 'E']\n"
     ]
    }
   ],
   "source": [
    "# to do\n",
    "list_1=[]\n",
    "counter=1\n",
    "while counter<=5:\n",
    "    add=input(\"enter value of list_1: \")\n",
    "    list_1.append(add)\n",
    "    counter+=1\n",
    "print(\"list_1 is done\")\n",
    "\n",
    "list_2=[]\n",
    "counter=1\n",
    "while counter<=5:\n",
    "    add2=input(\"enter value of list_2: \")\n",
    "    list_2.append(add2)\n",
    "    counter+=1\n",
    "print(\"list_2 is done\")\n",
    "\n",
    "list_3=[]\n",
    "for i in list_1:\n",
    "       if i in list_2:\n",
    "            list_3.append(i)\n",
    "print(\"list-1:\",list_1)\n",
    "print(\"list-2:\",list_2)\n",
    "print(\"Common Elements:\",list_3)\n"
   ]
  },
  {
   "cell_type": "markdown",
   "metadata": {
    "id": "tjcE5oitCM2s"
   },
   "source": [
    "### Task 15\n",
    "\n",
    "Assume, you have been given two lists. [Your program should work for any two given lists; make changes to the lists below and check whether your program works correctly]\n",
    "\n",
    "list_one = [1, 2 , 2, 4, 5, 5, 7, 99, 200, 303, 70]\\\n",
    "list_two = [1, 1, 2, 3, 3, 3, 4, 5, 200, 500, -5]\n",
    "\n",
    "Write a Python program that creates a new list with all the **unique elements** of both the given lists. \n",
    "<font color='red'> **You need to make sure that there are no duplicates in the resulting list.**</font> Finally, print the updated list.\n",
    "\n",
    "**Hint:** You may create a third list to store the results. You can use membership operators (in, not in) to make sure no duplicates are added.\n",
    "\n",
    "===================================================================\n",
    "\n",
    "**Output for the above two lists**: \n",
    "[1, 2, 4, 5, 7, 99, 200, 303, 70, 3, 500, -5]\n",
    "\n",
    "==================================================================="
   ]
  },
  {
   "cell_type": "code",
   "execution_count": 4,
   "metadata": {
    "id": "b2TwkUqnGZU-"
   },
   "outputs": [
    {
     "name": "stdout",
     "output_type": "stream",
     "text": [
      "[1, 2, 3, 4, 5, 7, 99, 200, 303, 70, 500, -5]\n"
     ]
    }
   ],
   "source": [
    "# to do\n",
    "list_one = [1,2,3,2,4,5,5,7,99,200,303,70]\n",
    "list_two = [1,1,2,3,3,3,4,5,200,500,-5]\n",
    "list_three=[]\n",
    "for i  in list_one:\n",
    "            if(i not in list_three):\n",
    "                     list_three.append(i)\n",
    "for i  in list_two:\n",
    "            if(i not in list_three):\n",
    "                     list_three.append(i)\n",
    "print(list_three)"
   ]
  },
  {
   "cell_type": "markdown",
   "metadata": {
    "id": "A1GQ4lem2We7"
   },
   "source": [
    "### Task 16\n",
    "\n",
    "Write a python program to take a list as a input from the user and print it back to the user. \n",
    "\n",
    "**<font color='red'>[Must use string split() and strip() functions]</font>**\n",
    "\n",
    "================================================================\n",
    "\n",
    "**Sample Input 1:**\\\n",
    "'1, &nbsp; &nbsp;&nbsp; &nbsp; 2  ,&nbsp; &nbsp;&nbsp; &nbsp;&nbsp; &nbsp;&nbsp; &nbsp;3, 50, 4'\n",
    "\n",
    "**Sample Output 1:**\\\n",
    "Original data: '1, &nbsp; &nbsp;&nbsp; &nbsp; 2  ,&nbsp; &nbsp;&nbsp; &nbsp;&nbsp; &nbsp;&nbsp; &nbsp;3, 50, 4'\\\n",
    "After removing square brackets: 1, &nbsp; &nbsp;&nbsp; &nbsp; 2  ,&nbsp; &nbsp;&nbsp; &nbsp;&nbsp; &nbsp;&nbsp; &nbsp;3, 50, 4\\\n",
    "Numbers in string format with extra white spaces: ['1', '&nbsp; &nbsp;&nbsp; &nbsp; 2'  ,'&nbsp; &nbsp;&nbsp; &nbsp;&nbsp; &nbsp;&nbsp; &nbsp;3', '50', '4']\\\n",
    "Final data (numbers in list format): [1, 2, 3, 50, 4]\n",
    "                \n",
    "                \n",
    "================================================================\n",
    "                \n",
    "  \n",
    "**Sample Input 2:**\n",
    "'[1,&nbsp; &nbsp;&nbsp; &nbsp;2&nbsp; &nbsp;,&nbsp; &nbsp;&nbsp; &nbsp;&nbsp; &nbsp;&nbsp; &nbsp;3, 50, 4]'\n",
    "\n",
    "**Sample Output 2:**\\\n",
    "Original data: [1,&nbsp; &nbsp;&nbsp; &nbsp;2&nbsp; &nbsp;,&nbsp; &nbsp;&nbsp; &nbsp;&nbsp; &nbsp;&nbsp; &nbsp;3, 50, 4]\\\n",
    "After removing square brackets: 1,&nbsp; &nbsp;&nbsp; &nbsp;2&nbsp; &nbsp;,&nbsp; &nbsp;&nbsp; &nbsp;&nbsp; &nbsp;&nbsp; &nbsp;3, 50, 4\\\n",
    "Numbers in string format with extra white spaces: ['1', '&nbsp; &nbsp;&nbsp; &nbsp;2&nbsp; &nbsp;', '&nbsp; &nbsp;&nbsp; &nbsp;&nbsp; &nbsp;&nbsp; &nbsp;3', '50', '4']\\\n",
    "Final data (numbers in list format): [1, 2, 3, 50, 4]\n",
    "                \n",
    "                \n",
    "================================================================\n",
    "\n",
    "                \n",
    "  \n",
    "**Sample Input 3:**\\\n",
    "\"&nbsp; &nbsp;&nbsp; &nbsp;[1,&nbsp; &nbsp;2&nbsp; &nbsp;,&nbsp; &nbsp;&nbsp; &nbsp;&nbsp; &nbsp;3,&nbsp; &nbsp;50,&nbsp; &nbsp;4]&nbsp; &nbsp;&nbsp; &nbsp;&nbsp; &nbsp;\"\n",
    "\n",
    "**Sample Output 3:**\\\n",
    "Original data: &nbsp; &nbsp;&nbsp; &nbsp;1,&nbsp; &nbsp;2&nbsp; &nbsp;,&nbsp; &nbsp;&nbsp; &nbsp;&nbsp; &nbsp;3,&nbsp; &nbsp;50,&nbsp; &nbsp;4&nbsp; &nbsp;&nbsp; &nbsp;&nbsp; &nbsp;\\\n",
    "After removing square brackets: 1,&nbsp; &nbsp;2&nbsp; &nbsp;,&nbsp; &nbsp;&nbsp; &nbsp;&nbsp; &nbsp;3,&nbsp; &nbsp;50,&nbsp; &nbsp;4\\\n",
    "Numbers in string format with extra white spaces: [' 1', '&nbsp; &nbsp;2&nbsp; &nbsp;', '&nbsp; &nbsp;&nbsp; &nbsp;&nbsp; &nbsp;3', '&nbsp; &nbsp;50', '&nbsp; &nbsp;4']\\\n",
    "Final data (numbers in list format): [1, 2, 3, 50, 4]\n",
    "\n",
    "                \n",
    "================================================================"
   ]
  },
  {
   "cell_type": "code",
   "execution_count": null,
   "metadata": {
    "id": "sV24bMYu2WPf"
   },
   "outputs": [],
   "source": [
    "#to do\n"
   ]
  },
  {
   "cell_type": "markdown",
   "metadata": {
    "id": "Ju21t8um2jiS"
   },
   "source": [
    "\n",
    "### Task 17\n",
    "Write a Python program that takes a single string as an input from the user where few numbers are separated by commas. Now, make a list with the numbers of the given string.Then your task is to remove multiple occurences of any number and then finally print the list **without any duplicate values**.\n",
    "\n",
    "*Hint (1): For obtaining the numbers from the string, use split(). For cleaning the data, use strip().*\n",
    "\n",
    "*Hint (2): You may create a third list to store the results. You can use membership operators (in, not in) to make sure no duplicates are added.*\n",
    "\n",
    "===================================================================\n",
    "\n",
    "**Sample Input 1:**<br/>\n",
    "0, 0, 1, 2, 3, 4,&nbsp;&nbsp; &nbsp;&nbsp; 4, 5, 6, 6, 6,&nbsp;&nbsp;&nbsp;&nbsp;&nbsp;&nbsp;7, 8, 9, 4,&nbsp;&nbsp;&nbsp;&nbsp;&nbsp;&nbsp;&nbsp;&nbsp; 4<br/>\n",
    "\n",
    "\n",
    "**Sample Output 1:**<br/>\n",
    "Given numbers in list: [0, 0, 1, 2, 3, 4, 4, 5, 6, 6, 6, 7, 8, 9, 4, 4]\\\n",
    "List without any dupliacte values: [0, 1, 2, 3, 4, 5, 6, 7, 8, 9]<br/>\n",
    "\n",
    "===================================================================\n",
    "\n",
    "**Sample Input 2:**<br/>\n",
    "7, 7, 7, 1, &nbsp;&nbsp;&nbsp;&nbsp;&nbsp;&nbsp;&nbsp;&nbsp;&nbsp;&nbsp;0, 3, 3, &nbsp;&nbsp;55, 9<br/>\n",
    "\n",
    "\n",
    "**Sample Output 2:**<br/>\n",
    "Given numbers in list: [7, 7, 7, 1, 0, 3, 3, 55, 9]\\\n",
    "List without any dupliacte values: [7, 1, 0, 3, 55, 9]<br/>\n",
    "\n",
    "===================================================================\n"
   ]
  },
  {
   "cell_type": "code",
   "execution_count": null,
   "metadata": {
    "id": "fCEuh7r_2kgE"
   },
   "outputs": [],
   "source": [
    "#to do\n"
   ]
  }
 ],
 "metadata": {
  "colab": {
   "collapsed_sections": [],
   "name": "CSE110 Lab Assignment 4 (List).ipynb",
   "provenance": []
  },
  "kernelspec": {
   "display_name": "Python 3",
   "language": "python",
   "name": "python3"
  },
  "language_info": {
   "codemirror_mode": {
    "name": "ipython",
    "version": 3
   },
   "file_extension": ".py",
   "mimetype": "text/x-python",
   "name": "python",
   "nbconvert_exporter": "python",
   "pygments_lexer": "ipython3",
   "version": "3.8.8"
  }
 },
 "nbformat": 4,
 "nbformat_minor": 1
}
